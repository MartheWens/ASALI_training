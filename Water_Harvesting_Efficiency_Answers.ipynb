{
 "cells": [
  {
   "cell_type": "markdown",
   "metadata": {},
   "source": [
    "<div style=\"text-align: right\">  \n",
    "Notebook by Timothy Tiggeloven en Marthe Wens <br>\n",
    "Water harvesting model by Timothy Tiggeloven <br>\n",
    "CBA and Risk analysis by Marthe Wens </div>\n",
    "\n",
    "Water Risk Practicum: Evaluating the effects of WHS\n",
    "===================="
   ]
  },
  {
   "cell_type": "markdown",
   "metadata": {},
   "source": [
    "## Introduction\n",
    "For this exercise, imagine you live in rural, semi-arid place in Kenya and have a household to run. You need <span style=\"color:red\">85.86 liters</span> of water per week per person for your household - domestic water demand. You want to implement a new water harvesting technique and want to know the effect of climate change on your investment. Therefore, you need to analyse if your investment is feasible. In order to analyse this, you have a water storage model (this script) and meteorological data (csv file) at your disposal. The water storage model is a simple model in which water can be harvested and stored during a period of time. The model runs on a daily time step basis in which water enters the system through direct precipitation or runoff and leaves the system through usage of water and evaporation. Two types of water harvesting structures (WHS) will be analysed in this practical; a cistern and an open pond. Dimensions and usage can be altered in the script. For cistern storage, the evaporation is assumed to be zero, however it is more expensive to build <a href=\"https://doi.org/10.1016/j.jaridenv.2015.02.019\">(Lasage & Verburg, 2015)</a>. The model takes input of a comma-separated meteorological data file in which data of the years, months, days, precipitation and temperature of the chosen region is found. The following paragraphs are a guide to the script.\n",
    "</div>"
   ]
  },
  {
   "cell_type": "markdown",
   "metadata": {},
   "source": [
    "The learning goals of this practical are:\n",
    "* Gain insight in working with small scale water harvesting systems\n",
    "* Work with a python-based model\n",
    "* Learn simple time series analysis in Python\n",
    "* calculate water risk related terms like cost benefit analysis and expected losses"
   ]
  },
  {
   "cell_type": "markdown",
   "metadata": {},
   "source": [
    "<div style=\"text-align: justify\">During this practical we will focus on basic time series analysis and list operations in Python. While programming, you will come across errors in your script. Try first to read the errors and understand what went wrong. A lot of the times it’s just a typo. When you are in doubt about the error, it might help to google the error message and maybe add the function you used to narrow the searches down. A very helpful site that will pop up in google is stackoverflow in which similar problems are solved by the stackoverflow community.\n",
    "<br><br>"
   ]
  },
  {
   "cell_type": "code",
   "execution_count": 1,
   "metadata": {},
   "outputs": [],
   "source": [
    "# import working modules\n",
    "\n",
    "import math\n",
    "import numpy as np\n",
    "import os\n",
    "import pandas as pd\n",
    "import sys\n",
    "\n",
    "import warnings\n",
    "warnings.filterwarnings('ignore')\n",
    "\n",
    "import matplotlib.pyplot as plt\n",
    "%matplotlib inline"
   ]
  },
  {
   "cell_type": "markdown",
   "metadata": {},
   "source": [
    "## Load input and declare variables\n",
    "\n",
    "<div style=\"text-align: justify\"> In this step we are going to load the input variables with package called Pandas /n\n",
    "Further we assign values to declare the characteristics of the WHS, and we specify the the region of interest.\n",
    "</div>"
   ]
  },
  {
   "cell_type": "markdown",
   "metadata": {},
   "source": [
    "1. Load meteorological dataset\n",
    "<br>  HINT: Make sure the input files and the python script are in the same folder. Reading csv files is done with the pandas read_csv function. Be sure to specify the right csv file as input file and assign a suitable name for the output file when you make adjustments to the variables."
   ]
  },
  {
   "cell_type": "code",
   "execution_count": 2,
   "metadata": {},
   "outputs": [],
   "source": [
    "# Assign input and output file !!! select the correct ‘historical’ input file, that is not with ‘rcp’ in the name\n",
    "input_file = \"G:/PhD/Projects/ASALI training/Practica/input/input_malawi_mulanje_region.csv\" \n",
    "\n",
    "years = 30  # specify lenght of the dataset\n",
    "\n",
    "try:\n",
    "    df = pd.read_csv(input_file)\n",
    "except FileNotFoundError as e:\n",
    "    print(\"\\nFileNotFoundError: %s\" % e)\n",
    "    print(\"\\nCheck input file name\\n\")\n",
    "    sys.exit(1)\n",
    "\n",
    "data = df[['Year', 'Month', 'Day', 'Precipitation', 'Temperature']].copy()\n",
    "\n",
    "data['Time'] = pd.to_datetime(data[['Year', 'Month', 'Day']])\n",
    "Time = data['Time'].values.flatten()\n",
    "data['Day of year'] = data['Time'].dt.dayofyear\n",
    "data = data.set_index('Time')"
   ]
  },
  {
   "cell_type": "markdown",
   "metadata": {},
   "source": [
    "2. Define the area-specific characteristics.\n",
    "<br> The 'global variables' to assign are the water usage, runoff coefficient, threshold and latitude in degrees of selected region. "
   ]
  },
  {
   "cell_type": "code",
   "execution_count": 3,
   "metadata": {},
   "outputs": [],
   "source": [
    "# global variables\n",
    "demand = 85.86                 # demand of water per week per person [L]\n",
    "HH = 5.8                       # mean persons per household in Ethiopia\n",
    "field = 1                      # average farm field size [ha]\n",
    "num = 10                       # number of households that use open pond\n",
    "ROC = 0.72                     # runoff coefficient [-]\n",
    "threshold = 0.01               # minimum rainfall before runoff occurs [m3]\n",
    "lat = -1.1315313               # latitude of location [•]"
   ]
  },
  {
   "cell_type": "markdown",
   "metadata": {},
   "source": [
    "3. Define the size of the reservoirs for open pond and cistern.\n",
    "Water Harvesting Structures -specific variables can be assigned. Experiment with these values to get the maximum efficiency."
   ]
  },
  {
   "cell_type": "code",
   "execution_count": 4,
   "metadata": {},
   "outputs": [],
   "source": [
    "# cistern variables\n",
    "cap_cis = 500                   # capacity of cistern [m3]\n",
    "catchment_cis = 3000            # catchment size of cistern [m2]\n",
    "depth_cis = 20                  # depth of cistern [m]\n",
    "inlet_cis = cap_cis/depth_cis  # inlet of cistern [m2]"
   ]
  },
  {
   "cell_type": "code",
   "execution_count": 5,
   "metadata": {},
   "outputs": [],
   "source": [
    "# open pond variables\n",
    "cap_op = 50                    # capacity of open pond [m3]\n",
    "catchment_op = 300             # catchment size of open pond [m2]\n",
    "depth_op = 2                   # depth of open pond [m]\n",
    "inlet_op = cap_op/depth_op     # inlet of open pond [m2]"
   ]
  },
  {
   "cell_type": "markdown",
   "metadata": {},
   "source": [
    "## Functions\n",
    "<div style=\"text-align: justify\">\n",
    "The model makes use of two functions, a water storage calculation and an evaporation calculation. They are specified in the beginning of the script, and 'called'(i.e. used) later in the calculations.\n",
    "</div>"
   ]
  },
  {
   "cell_type": "markdown",
   "metadata": {},
   "source": [
    "1. Evaporation calculation\n",
    "<br><br>\n",
    "<div style=\"text-align: justify\"> Thornthwaite evaporation is calculated with the evap_calc function and takes temperature, number of the day of the year, number of the day of the month, month number and year as input. Because the Thornthwaite evaporation is dependent on the average length of the day and a heat function based on mean monthly temperatures extra sets of codes are used. The Thornthwaite evaporation is calculated with the following formula:\n",
    "<br><br>\n",
    "$$PE=16 * \\frac{L}{12*M} \\left(\\frac{10Ta}{I}\\right)^{α}$$\n",
    "<br>\n",
    "where L is the average length of the day, M the number of days in the month, T a the average daily temperature, I the heat index and α a function based on the heat index (Thornthwaite, 1948). Potential evaporation ( P E ) is calculated in mm day-​ 1​.</div>"
   ]
  },
  {
   "cell_type": "code",
   "execution_count": 6,
   "metadata": {},
   "outputs": [],
   "source": [
    "# Evaporation calculation script (NO CHANGES NEEDED)\n",
    "def evap_calc(data):\n",
    "    \n",
    "    # Apply sunrise equation in order to calculate the average length of the day cfr. (Allen et al., 1998)\n",
    "    omega = lat * math.pi / 180\n",
    "    data['Delta'] = 0.409 * np.sin(2 * data['Day of year'] * np.pi / 365 - 1.39)\n",
    "    data['ws'] = np.arccos(-np.tan(omega) * np.tan(data['Delta']))\n",
    "    data['daylight'] = 24 * data['ws'] / np.pi\n",
    "    data = data.drop(['Delta', 'ws'], axis=1)\n",
    "\n",
    "    # Calculate average temperature data per month\n",
    "    Month_data = data['Temperature'].resample(\"M\").mean().to_frame()\n",
    "\n",
    "    # Assign number of days in a month for the specific months in data        \n",
    "    data['days per month'] = data.index.to_series().dt.daysinmonth\n",
    "\n",
    "    # Calculate heat index function, which depends on the 12 monthly mean temperatures  \n",
    "    Month_data['Heat index'] = pow((0.2 * Month_data['Temperature']), 1.514)\n",
    "    Year_data = Month_data['Heat index'].resample(\"A\").sum().to_frame()\n",
    "    \n",
    "    # Convert monthly heat index to daily values\n",
    "    Year_data['Year'] = Year_data.index.to_series().dt.year\n",
    "    data = data.merge(Year_data, how='left', on='Year')\n",
    "\n",
    "    #  Thornthwaite evaporation can be calculated per day\n",
    "    TW = []\n",
    "    for temp, dl, dpm, hi in zip(data['Temperature'].values.flatten(),\n",
    "                          data['daylight'].values.flatten(),\n",
    "                          data['days per month'].values.flatten(),\n",
    "                          data['Heat index'].values.flatten()):\n",
    "        \n",
    "        # Calculate the alpha function, depended on heat index\n",
    "        alpha = ((6.75 * pow(10, -7)) * pow(hi, 3) - (7.71 * pow(10, -5)) *\n",
    "                 pow(hi, 2) + (1.7912 * pow(10, -2)) * hi + 0.49239)\n",
    "\n",
    "        # Check if temperature is extreme\n",
    "        if temp > 26:   # If daily average temperature is higher than 26 a different equation is used\n",
    "            PET = (dl / (12 * dpm)) * (-415.85 + 32.24 * temp - pow((0.43 * temp), 2))\n",
    "        elif temp < 0:  # If temperature is below zero, evaporation is assumed to be close to zero\n",
    "            PET = 0.0001\n",
    "        else:        # Normal Thornthwaite equation\n",
    "            PET = 16 * (dl / (12 * dpm)) * pow((10 * temp / hi), alpha)\n",
    "        TW.append(PET)\n",
    "    \n",
    "    return TW"
   ]
  },
  {
   "cell_type": "markdown",
   "metadata": {},
   "source": [
    "2. Water storage calculation function\n",
    "<br>\n",
    "<br>\n",
    "<div style=\"text-align: justify\"> The storage calculation function calculates the amount of water available in the WHS (cistern or open pond). It takes precipitation, evaporation and the characteristics of the WHS as input. <br> Water inflow in the WHS can occur in two ways: by rainfall and by runoff. Rainfall inflow only occurs in open ponds. Runoff inflow only occurs if the assigned threshold is met and calculated by multiplying the catchment size with precipitation and the runoff coefficient. <br> Water outflow happens through evaporation. Evaporation in this script is calculatend following the Thornthwaite function (see function above), but you can also use the Penman-Monteith evaporation function instead. Evaporation happens only for open ponds.  <br> The list E_list keeps track of the amount of storage water evaporated during the period of the model run. After assessing the inflow and outflow, one can calculate the real amount of water that can be harvested. Then, extraction for household use is taken into account.</div>"
   ]
  },
  {
   "cell_type": "code",
   "execution_count": 7,
   "metadata": {},
   "outputs": [],
   "source": [
    "# water storage calculation script (NO CHANGES NEEDED)\n",
    "def storage_calc(prec, evap, pot_use, WHS, cap, catchment, depth, inlet):\n",
    "\n",
    "    EvtActual_list, storage_list, usage_list, waterflux_list = [], [], [], []\n",
    "    stored = 0 # Initial water storage is zero\n",
    "    used = 0  # Initial water usage is zero\n",
    "    \n",
    "    # calculate storage and usage of WHS per time step (day)\n",
    "    for e, p in zip(evap, prec):\n",
    "        \n",
    "        # Evaporation and precipitation is divided by 1000 to transform mm day-​ 1 to m day-​ 1​.\n",
    "        Evt = e / 1000\n",
    "        Pr  = p / 1000\n",
    "        \n",
    "        # this variable keeps track of the flux of water that day\n",
    "        waterflux = 0\n",
    "\n",
    "        # Water inflow from direct precipitation is only assigned if WHS is open pond\n",
    "        if WHS == 'open pond':\n",
    "            influx = inlet * Pr\n",
    "            stored += influx\n",
    "            waterflux += influx\n",
    "\n",
    "        # Water inflow from Runoff only takes place if the assigned threshold is met.\n",
    "        if Pr > threshold:\n",
    "            influx = catchment * Pr * ROC\n",
    "            stored += influx\n",
    "            waterflux += influx\n",
    "\n",
    "        # Water outflow through evaporation (remember: zero if cistern)\n",
    "        Evt = Evt * inlet\n",
    "        if stored < Evt: # If evaporation is higher than the amount of water in WHS, the full storage water will evaporate\n",
    "            EvtActual_list.append(stored)\n",
    "            waterflux -= stored\n",
    "            stored = 0\n",
    "        else: # No limits on evaporation here\n",
    "            EvtActual_list.append(Evt)\n",
    "            outflux = Evt\n",
    "            stored -= outflux\n",
    "            waterflux -= outflux\n",
    "\n",
    "        # Check whether the storage will not succeed capacity \n",
    "        if stored > cap:\n",
    "            #waterflux -= (stored - cap)\n",
    "            stored = cap\n",
    "      \n",
    "        # Substract household water usage from the WHS storage\n",
    "        if stored < pot_use:\n",
    "            used = stored\n",
    "            stored = 0\n",
    "        else:\n",
    "            used = pot_use\n",
    "            stored -= pot_use\n",
    "\n",
    "        # save the daily storage and use data\n",
    "        storage_list.append(stored)\n",
    "        usage_list.append(used)\n",
    "        waterflux_list.append(waterflux)\n",
    "\n",
    "    output = Storage_output(storage_list, usage_list, EvtActual_list, waterflux_list)\n",
    "\n",
    "    return output"
   ]
  },
  {
   "cell_type": "code",
   "execution_count": 8,
   "metadata": {},
   "outputs": [],
   "source": [
    "# extra function to create an object to store variables in\n",
    "class Storage_output(object):\n",
    "\n",
    "    def __init__(self, storage, usage, evaporation, waterflux):\n",
    "        self.storage = storage\n",
    "        self.usage = usage\n",
    "        self.evaporation = evaporation\n",
    "        self.waterflux = waterflux"
   ]
  },
  {
   "cell_type": "markdown",
   "metadata": {},
   "source": [
    "## Calculate the water storage in, and usage from the WHS\n",
    "\n",
    "First, the potential daily water use of the household needs to be calculated. Then, the functions - specified before- are called and data is passed throught them to calculate the daily storage of the two water harvesting systems. "
   ]
  },
  {
   "cell_type": "code",
   "execution_count": 9,
   "metadata": {},
   "outputs": [
    {
     "name": "stdout",
     "output_type": "stream",
     "text": [
      "Water demand :  0.7114114285714286\n"
     ]
    }
   ],
   "source": [
    "# Calculate the daily water demand (the usage potential) in m3\n",
    "potential_usage = (HH * num) * (demand / 7) / 1000\n",
    "print('Water demand : ', potential_usage)"
   ]
  },
  {
   "cell_type": "code",
   "execution_count": 10,
   "metadata": {},
   "outputs": [
    {
     "name": "stdout",
     "output_type": "stream",
     "text": [
      "Average annual potential evaporation (mm) :  2367.60506898746\n",
      "Average annual precipitation (mm) :  1236.8098681257334\n"
     ]
    }
   ],
   "source": [
    "# Calculate the potential evaporation using the Thornthweite function\n",
    "evap_data = evap_calc(data)\n",
    "prec_data = data['Precipitation'].values.flatten()\n",
    "print('Average annual potential evaporation (mm) : ',np.sum(evap_data)/years)\n",
    "print('Average annual precipitation (mm) : ',np.sum(prec_data)/years)"
   ]
  },
  {
   "cell_type": "code",
   "execution_count": 11,
   "metadata": {},
   "outputs": [
    {
     "name": "stdout",
     "output_type": "stream",
     "text": [
      "Average annual water storage in cistern (m3) :  171356.03208122024\n",
      "Average annual water storage in pond (m3) :  4047.3040603432755\n"
     ]
    }
   ],
   "source": [
    "# Calculate the water storage and actual water usage from the WHS\n",
    "\n",
    "# Evaporation is assigned zero for cistern storage\n",
    "evap_cis = [0 * i for i in evap_data]\n",
    "output_cis = storage_calc(prec_data, evap_cis, potential_usage, \"cistern\", cap_cis, catchment_cis, depth_cis, inlet_cis)\n",
    "\n",
    "# Because the storage function returns an ‘object’ (see storage_output function); \n",
    "# storage, usage and evaporation can easily be accessed. \n",
    "# A statement like \"output_op.usage\" will thus give you the open pond water usage.\n",
    "print('Average annual water storage in cistern (m3) : ',np.sum(output_cis.storage)/years)\n",
    "\n",
    "#Thornthwaite Evt values assigend for open pond \n",
    "evap_op = evap_data\n",
    "output_op  = storage_calc(prec_data, evap_op, potential_usage, \"open pond\", cap_op, catchment_op, depth_op, inlet_op)\n",
    "\n",
    "print('Average annual water storage in pond (m3) : ',np.sum(output_op.storage)/years)"
   ]
  },
  {
   "cell_type": "code",
   "execution_count": 12,
   "metadata": {},
   "outputs": [],
   "source": [
    "# Now save all the newly generated information in our data directory\n",
    "data['potentialevaporation'] = evap_data\n",
    "data['cis_storage']          = output_cis.storage\n",
    "data['cis_usage']            = output_cis.usage\n",
    "data['cis_evaporation']      = output_cis.evaporation\n",
    "data['cis_waterflux']        = output_cis.waterflux\n",
    "data['op_storage']           = output_op.storage\n",
    "data['op_usage']             = output_op.usage\n",
    "data['op_evaporation']       = output_op.evaporation\n",
    "data['op_waterflux']         = output_op.waterflux\n",
    "data['direct rain']          = data['Precipitation'] / 1000 * 100  ###### WHY *10 ?"
   ]
  },
  {
   "cell_type": "markdown",
   "metadata": {},
   "source": [
    "# Calculate WHS effectiveness\n",
    "\n",
    "Analyse the effectiveness of the WHS by evaluating the actual use and water demand. <br> Add a script to calculate the average yearly extracted water and effectiveness and the water shortage that is not mitigated, even using the WHS structures. The effectiveness of the WHS can be calculated by dividing the total water demand over the analyzed period into the actual extracted water from the reservoir for household use.\n",
    "The remaining water shortage can be calculated as the total number of days the reservoir contains too little water to meet this water use."
   ]
  },
  {
   "cell_type": "code",
   "execution_count": 13,
   "metadata": {},
   "outputs": [
    {
     "name": "stdout",
     "output_type": "stream",
     "text": [
      "Yearly extracted water of open pond: 130.68018490381067 m3 \n",
      "Yearly extracted water of cistern: 259.52298004146087 m3 \n"
     ]
    }
   ],
   "source": [
    "## write here your code to calculate the average yearly water extraction (hint: use np.sum, np.mean, len())\n",
    "\n",
    "YE_op = np.sum(output_op.usage) / len(output_op.usage) * 365\n",
    "YE_cis = np.sum(output_cis.usage) / len(output_cis.usage) * 365\n",
    "\n",
    "print(f'Yearly extracted water of open pond: {YE_op} m3 ')\n",
    "print(f'Yearly extracted water of cistern: {YE_cis} m3 ')"
   ]
  },
  {
   "cell_type": "code",
   "execution_count": 14,
   "metadata": {},
   "outputs": [
    {
     "name": "stdout",
     "output_type": "stream",
     "text": [
      "Effectiveness of open pond: 0.5032642005274015 %\n",
      "Effectiveness of cistern: 0.9994524048553438 %\n"
     ]
    }
   ],
   "source": [
    "# write here your code to calculate the water effectiveness (hint: use np.sum, np.mean, len())\n",
    "\n",
    "effect_op = np.sum(output_op.usage) / (len(output_op.usage) * potential_usage)\n",
    "effect_cis = np.sum(output_cis.usage) / (len(output_cis.usage) * potential_usage)\n",
    "\n",
    "print(f'Effectiveness of open pond: {effect_op} %')\n",
    "print(f'Effectiveness of cistern: {effect_cis} %')"
   ]
  },
  {
   "cell_type": "code",
   "execution_count": 15,
   "metadata": {},
   "outputs": [
    {
     "name": "stdout",
     "output_type": "stream",
     "text": [
      "Average amount of days with depleted water storage per year - open pond: 184.8\n",
      "Average amount of days with depleted water storage per year - cistern:  0.2\n"
     ]
    }
   ],
   "source": [
    "# write here your code to calculate the water shortage days (Hint: use np.where function or make use of a loop)\n",
    "\n",
    "# dry days open pond\n",
    "dry_days_op = 0\n",
    "for i in output_op.usage:\n",
    "    if i < potential_usage:\n",
    "        dry_days_op += 1\n",
    "\n",
    "# dry days cistern\n",
    "dry_days_cis = 0\n",
    "for i in output_cis.usage:\n",
    "    if i < potential_usage:\n",
    "        dry_days_cis += 1\n",
    "        \n",
    "print(f'Average amount of days with depleted water storage per year - open pond: {dry_days_op/years}')\n",
    "print(f'Average amount of days with depleted water storage per year - cistern:  {dry_days_cis/years}')"
   ]
  },
  {
   "cell_type": "markdown",
   "metadata": {},
   "source": [
    "# Calculate WHS efficiency\n",
    "Analyse the economic efficiency of the WHS by evaluating their costs and benefits. <br> The cost benefit ratio represents the ratio between the total benefits and the total costs of a measure. The net present value represents the difference between the present value of the future cash flows from an investment and the amount of investment and is a measure to evaluate and compare financial products with cash flows spread over time and. A zero net present value means the project repays original investment plus the required rate of return. A positive net present value means a better return, and a negative net present value means a worse return, than the return from zero net present value. The formula to calculate the net present value is as follows: <br><br>\n",
    "$$NPV =  \\sum_{t=1}^N \\frac{Ct - Bt}{\\left(1 + dr\\right)^{t}}$$\n",
    "<br>\n",
    "with t the time of the cash flow, N the total number of years, Bt and Ct the respective benefits and costs at a certain time and dr the discount rate. <dr> For the exercise, we assume the lifetime of the structures to be 30 years (total period of input data)."
   ]
  },
  {
   "cell_type": "code",
   "execution_count": 16,
   "metadata": {},
   "outputs": [],
   "source": [
    "# Specify the time horizon and discount rate of the CBA\n",
    "dr = 0.04"
   ]
  },
  {
   "cell_type": "code",
   "execution_count": 17,
   "metadata": {},
   "outputs": [],
   "source": [
    "# Resample usage to yearly values in new file\n",
    "yearly_usage_cis = data[['cis_usage']].resample(\"Y\").sum().values\n",
    "yearly_usage_op = data[['op_usage']].resample(\"Y\").sum().values"
   ]
  },
  {
   "cell_type": "markdown",
   "metadata": {},
   "source": [
    "1.  Calculate costs of construction and costs per cubic meter harvested water <br>\n",
    "\n",
    "The investment costs per m3​ of storage capacity for an open pond is 20.47 dollar, and for a\n",
    "cistern 32.28 dollar. \n",
    "The yearly maintenance costs per m3​ of storage capacity for an open pond is 0.31 dollar, and for a\n",
    "cistern 0.19 dollar."
   ]
  },
  {
   "cell_type": "code",
   "execution_count": 18,
   "metadata": {},
   "outputs": [
    {
     "name": "stdout",
     "output_type": "stream",
     "text": [
      "Yearly costs Cistern (average includes investment and maintenance): 629.8333333333334 dollar\n",
      "Yearly costs Open Pond (average includes investment and maintenance): 49.1 dollar\n",
      "Cost of water for open pond: 0.37548639804048933 dollar / m3 water\n",
      "Cost of water for cistern: 2.4253380462812397 dollar / m3 water\n"
     ]
    }
   ],
   "source": [
    "# write here your code to calculate the total costs \n",
    "yearlycosts_cis = np.zeros(years) + ( 0.19 * cap_cis )\n",
    "yearlycosts_cis[0] = 32.28 * cap_cis\n",
    "yearlycosts_op = np.zeros(years) + ( 0.31 * cap_op ) \n",
    "yearlycosts_op[0] = 20.47  * cap_op  \n",
    "\n",
    "print(f'Yearly costs Cistern (average includes investment and maintenance): {np.mean(yearlycosts_cis)} dollar')\n",
    "print(f'Yearly costs Open Pond (average includes investment and maintenance): {np.mean(yearlycosts_op)} dollar')\n",
    "\n",
    "# write here your code to calculate the costs per m3​ of extracted water.\n",
    "costs_water_op = np.sum(yearlycosts_op) / np.sum(yearly_usage_op)\n",
    "costs_water_cis = np.sum(yearlycosts_cis) / np.sum(yearly_usage_cis) \n",
    "print(f'Cost of water for open pond: {costs_water_op} dollar / m3 water')\n",
    "print(f'Cost of water for cistern: {costs_water_cis} dollar / m3 water')"
   ]
  },
  {
   "cell_type": "markdown",
   "metadata": {},
   "source": [
    "2. Calculate benefits of harvested water <br>\n",
    "\n",
    "To estimate the net benefit of the measure, you have to find the water price (for botteled water) in your study area and multiply it with water usage from the WHS. (Assuming otherwise you would have to buy the water you are using). "
   ]
  },
  {
   "cell_type": "code",
   "execution_count": 19,
   "metadata": {},
   "outputs": [
    {
     "name": "stdout",
     "output_type": "stream",
     "text": [
      "Yearly benefits Cistern (saved water expenditures): 363.5644392000018 dollar\n",
      "Yearly benefits Open Pond (saved water expenditures): 183.06921464725775 dollar\n"
     ]
    }
   ],
   "source": [
    "# Write here your code to calculate the total benefits timeseries\n",
    "waterprice = 1.4  # per m3\n",
    "\n",
    "yearlybenefit_cis = waterprice * yearly_usage_cis \n",
    "yearlybenefit_op = waterprice * yearly_usage_op  \n",
    "\n",
    "print(f'Yearly benefits Cistern (saved water expenditures): {np.mean(yearlybenefit_cis)} dollar')\n",
    "print(f'Yearly benefits Open Pond (saved water expenditures): {np.mean(yearlybenefit_op)} dollar')"
   ]
  },
  {
   "cell_type": "markdown",
   "metadata": {},
   "source": [
    "3. Calculate benefit-cost ratio and net present value <br>\n",
    "\n",
    "The BC-ratio can be calculated as the total benefits divided by the total costs, while the net present value should be calculated per year and summed, following the formula specified above."
   ]
  },
  {
   "cell_type": "code",
   "execution_count": 20,
   "metadata": {},
   "outputs": [
    {
     "name": "stdout",
     "output_type": "stream",
     "text": [
      "Benefits / Costs ratio Cistern: 0.5772391201905294\n",
      "Benefits / Costs ratio Open Pond: 3.728497243325005\n"
     ]
    }
   ],
   "source": [
    "# Write here your code to calculate the total BC-ratio\n",
    "BCratio_cis = np.sum(yearlybenefit_cis) /  np.sum(yearlycosts_cis)\n",
    "BCratio_op = np.sum(yearlybenefit_op) /  np.sum(yearlycosts_op)\n",
    "\n",
    "print(f'Benefits / Costs ratio Cistern: {BCratio_cis}')\n",
    "print(f'Benefits / Costs ratio Open Pond: {BCratio_op}')"
   ]
  },
  {
   "cell_type": "code",
   "execution_count": 21,
   "metadata": {},
   "outputs": [
    {
     "name": "stdout",
     "output_type": "stream",
     "text": [
      "Net Present Value Cistern: -11217.559561737615\n",
      "Net Present Value Open Pond: 2022.9116307809277\n"
     ]
    }
   ],
   "source": [
    "# Write here your code to calculate the NPV (hint: power statement: **)\n",
    "CBA_cis = np.zeros(years)\n",
    "CBA_op = np.zeros(years)\n",
    "for t in range(years):\n",
    "    CBA_cis[t] = (yearlybenefit_cis[t] - yearlycosts_cis[t]) / (1 + dr)**t\n",
    "    CBA_op[t] = (yearlybenefit_op[t] - yearlycosts_op[t]) / (1 + dr)**t\n",
    "NPV_cis=np.sum(CBA_cis)\n",
    "NPV_op=np.sum(CBA_op)\n",
    "\n",
    "print(f'Net Present Value Cistern: {np.mean(NPV_cis)}')\n",
    "print(f'Net Present Value Open Pond: {np.mean(NPV_op)}')"
   ]
  },
  {
   "cell_type": "markdown",
   "metadata": {},
   "source": [
    "# Calculate agricultural drought risk\n",
    "\n",
    "Assume you use the water in the WHS to irrigate (water) the maize on your field. Using a maize vulnerability curve, you can now estimate the maize yield per year under rainfed conditions or under water harvesting conditions for the main cropping season (Ethiopia: MAMJJA; Burkina: MJJASO; Malawi: DJFMAM). This allows to estimate crop losses (in dollars, if the maize price is taken into account) hence an estimation of the expected annual damage.   "
   ]
  },
  {
   "cell_type": "code",
   "execution_count": 22,
   "metadata": {},
   "outputs": [],
   "source": [
    "# Size of maize field (m2)\n",
    "area = 1000"
   ]
  },
  {
   "cell_type": "code",
   "execution_count": 23,
   "metadata": {},
   "outputs": [
    {
     "name": "stdout",
     "output_type": "stream",
     "text": [
      "The average seasonal precipitation equals: 1003.9011063900333 mm\n",
      "The average seasonal cistern water supply equals: 18.04037693688 mm\n",
      "The average seasonal pond water supply equals: 18.04037693688 mm\n"
     ]
    }
   ],
   "source": [
    "# Find seasonal precipitation and water storage\n",
    "startmonth= -2\n",
    "endmonth= 4\n",
    "    \n",
    "monthly_storage_cis = data['cis_waterflux'].resample(\"M\").sum().values\n",
    "monthly_storage_op = data['op_waterflux'].resample(\"M\").sum().values\n",
    "monthly_precipitation = data['Precipitation'].resample(\"M\").sum().values\n",
    "\n",
    "seasonal_storage_cis = np.zeros(years)\n",
    "seasonal_storage_op = np.zeros(years)\n",
    "seasonal_precipitation = np.zeros(years)\n",
    "for y in range(1,years):\n",
    "    seasonal_storage_cis[y] = monthly_storage_cis[(12*y)+endmonth] # Storage end of season\n",
    "    seasonal_storage_op[y] = monthly_storage_cis[(12*y)+endmonth]\n",
    "    seasonal_precipitation[y] = np.sum(monthly_precipitation[(12*y)+startmonth:(12*y)+endmonth]) # sum of monthly rain over season\n",
    "\n",
    "# Convert available water to mm over the field\n",
    "seasonal_available_cis = (1000 * seasonal_storage_cis / area)\n",
    "seasonal_available_op = (1000 * seasonal_storage_op / area)\n",
    "\n",
    "print(f'The average seasonal precipitation equals: {np.mean(seasonal_precipitation)} mm')\n",
    "print(f'The average seasonal cistern water supply equals: {np.mean(seasonal_storage_cis)} mm')\n",
    "print(f'The average seasonal pond water supply equals: {np.mean(seasonal_storage_op)} mm')"
   ]
  },
  {
   "cell_type": "code",
   "execution_count": 29,
   "metadata": {},
   "outputs": [
    {
     "data": {
      "text/plain": [
       "array([  0.        ,  47.40165658,  55.72493855,   0.        ,\n",
       "         0.        ,  32.22198153,  90.52274195,  58.31827148,\n",
       "         0.        ,   0.        ,   0.        ,  25.01374031,\n",
       "         0.        ,  22.44242791,   0.        ,   0.        ,\n",
       "        23.95648503,   0.        ,   0.        ,   0.        ,\n",
       "         0.        ,  39.6152975 ,   0.        ,   0.        ,\n",
       "         0.        ,   0.        , 145.99376727,   0.        ,\n",
       "         0.        ,   0.        ])"
      ]
     },
     "execution_count": 29,
     "metadata": {},
     "output_type": "execute_result"
    }
   ],
   "source": [
    "seasonal_available_op"
   ]
  },
  {
   "cell_type": "code",
   "execution_count": 25,
   "metadata": {},
   "outputs": [],
   "source": [
    "# Read in the vulnerability file\n",
    "# (Source vulnerability: Meng et al (2016) Growing sensitivity of maize to water scarcity under climate change; World Bank Data - FAO maize yield (kg/ha))\n",
    "\n",
    "input_file = \"G:/PhD/Projects/ASALI training/Practica/input/Maize yield vulnerability.xlsx\" \n",
    "\n",
    "try:\n",
    "    df = pd.read_excel(input_file)\n",
    "except FileNotFoundError as e:\n",
    "    print(\"\\nFileNotFoundError: %s\" % e)\n",
    "    print(\"\\nCheck input file name\\n\")\n",
    "    sys.exit(1)\n",
    "vulnfile = df[['Rain', 'Malawi']].copy().rename({'Malawi': 'Yield'}, axis=1)"
   ]
  },
  {
   "cell_type": "code",
   "execution_count": 30,
   "metadata": {},
   "outputs": [
    {
     "name": "stdout",
     "output_type": "stream",
     "text": [
      "The average seasonal crop water availability equals: 1003.9011063900333 mm\n",
      "The average seasonal crop water available with cistern irrigation equals: 1005.9696972369933 mm\n",
      "The average seasonal crop water available with pond irrigation equals: 1005.9696972369933 mm\n"
     ]
    }
   ],
   "source": [
    "# Assuming 800mm is enough to have full yield, calculate irrigation needs and total available water per season\n",
    "cropwater_available_rain = np.zeros(years)\n",
    "cropwater_available_cis = np.zeros(years)\n",
    "cropwater_available_op = np.zeros(years)\n",
    "\n",
    "for y in range(years):\n",
    "    cropwater_available_rain[y] = seasonal_precipitation[y]\n",
    "    cropwater_available_cis[y] = seasonal_precipitation[y]\n",
    "    cropwater_available_op[y] = seasonal_precipitation[y]\n",
    "    if seasonal_precipitation[y] < 800:\n",
    "        if (800 - seasonal_precipitation[y] ) > seasonal_available_cis[y]:             \n",
    "            cropwater_available_cis[y] = seasonal_precipitation[y] + seasonal_available_cis[y]\n",
    "        else: # if plenty: irrigate till 800m is achieved\n",
    "            cropwater_available_cis[y] =  800\n",
    "        if (800 - seasonal_precipitation[y]) > seasonal_available_op[y]:\n",
    "            cropwater_available_op[y] = seasonal_precipitation[y] + seasonal_available_op[y]\n",
    "        else: # if plenty: irrigate till 800m is achieved\n",
    "            cropwater_available_op[y] =  800\n",
    "\n",
    "# Calculate mean availability\n",
    "print(f'The average seasonal crop water availability equals: {np.mean(cropwater_available_rain)} mm')\n",
    "print(f'The average seasonal crop water available with cistern irrigation equals: {np.mean(cropwater_available_cis)} mm')\n",
    "print(f'The average seasonal crop water available with pond irrigation equals: {np.mean(cropwater_available_op)} mm')"
   ]
  },
  {
   "cell_type": "code",
   "execution_count": 31,
   "metadata": {},
   "outputs": [],
   "source": [
    "# Check crop yield per year\n",
    "\n",
    "yieldpotential = vulnfile['Yield'][vulnfile['Rain']==800]\n",
    "\n",
    "cropyield_rain = np.zeros(years)\n",
    "cropyield_cis = np.zeros(years)\n",
    "cropyield_op = np.zeros(years)\n",
    "for y in range(years):\n",
    "    cropwater = min(vulnfile['Rain'], key=lambda x:abs(x-cropwater_available_rain[y])) # find nearst neighbour\n",
    "    cropyield_rain[y] = vulnfile['Yield'][vulnfile['Rain']==cropwater] # assign yield based on vulnfile\n",
    "    cropwater = min(vulnfile['Rain'], key=lambda x:abs(x-cropwater_available_cis[y])) # find nearst neighbour\n",
    "    cropyield_cis[y] = vulnfile['Yield'][vulnfile['Rain']==cropwater] # assign yield based on vulnfile\n",
    "    cropwater = min(vulnfile['Rain'], key=lambda x:abs(x-cropwater_available_op[y])) # find nearst neighbour\n",
    "    cropyield_op[y] = vulnfile['Yield'][vulnfile['Rain']==cropwater] # assign yield based on vulnfile"
   ]
  },
  {
   "cell_type": "code",
   "execution_count": 32,
   "metadata": {},
   "outputs": [
    {
     "name": "stdout",
     "output_type": "stream",
     "text": [
      "The expected annual agricultural damage equals: 59.26766727272728 dollar\n",
      "The expected annual agricultural damage with cistern equals: 59.26766727272728 dollar\n",
      "The expected annual agricultural damage with open pond equals: 59.26766727272728 dollar\n"
     ]
    }
   ],
   "source": [
    "# Check crop losses and expected annual dammage (i.e. average annual crop loss in usd)\n",
    "cropprice = 0.3 #dollar per kg\n",
    "croploss_rain = cropprice * (yieldpotential.values - cropyield_rain)\n",
    "croploss_rain[croploss_rain<0]=0\n",
    "EAD_rain = np.mean(croploss_rain) \n",
    "print(f'The expected annual agricultural damage equals: {EAD_rain} dollar')\n",
    "croploss_cis = cropprice * (yieldpotential.values - cropyield_cis)\n",
    "croploss_cis[croploss_cis<0]=0\n",
    "EAD_cis = np.mean(croploss_cis) \n",
    "print(f'The expected annual agricultural damage with cistern equals: {EAD_rain} dollar')\n",
    "croploss_op = cropprice * (yieldpotential.values - cropyield_op)\n",
    "croploss_op[croploss_op<0]=0\n",
    "EAD_op = np.mean(croploss_op) \n",
    "print(f'The expected annual agricultural damage with open pond equals: {EAD_rain} dollar')"
   ]
  },
  {
   "cell_type": "code",
   "execution_count": null,
   "metadata": {},
   "outputs": [],
   "source": [
    "# Check cost efficiency\n",
    "cis = (EAD_rain - EAD_cis) - np.mean(yearlycosts_cis)\n",
    "print(f'The cost efficiency of cisterns as drought mitigation measure equals: {cis} dollar')\n",
    "op = (EAD_rain - EAD_op) - np.mean(yearlycosts_op)\n",
    "print(f'The cost efficiency of open ponds as drought mitigation measure equals: {op} dollar')"
   ]
  },
  {
   "cell_type": "markdown",
   "metadata": {},
   "source": [
    "Saving and plotting  data \n",
    "===========================\n",
    "Output is written to a csv file. Plots are made in this script.\n",
    "<br>\n",
    "The goal is to make a graph with the investment per m3​ of extracted water for your location in relation to the percentage of the year water is available in the system on average for the whole analyzed period. This can either be done by adding script to the program (adding more instances of storage_calc() with different input values), or by using the output files in, for example, Excel. At the bottom of this document several functions are listed which you can use to add to the program."
   ]
  },
  {
   "cell_type": "code",
   "execution_count": null,
   "metadata": {},
   "outputs": [],
   "source": [
    "# make pandas data frame with headers and save data frame to csv (here you can add whatever you want to save to excel)\n",
    "headers = [\"Storage cistern [m3]\", \"Storage open pond [m3]\",\n",
    "           \"Extracted water cistern [m3]\", \"Extracted water open pond [m3]\"]\n",
    "\n",
    "\n",
    "output_data = pd.concat([data, pd.DataFrame(np.column_stack([\n",
    "                                                output_op.storage,\n",
    "                                                output_cis.storage,\n",
    "                                                output_op.usage,\n",
    "                                                output_cis.usage]), \n",
    "                        index=data.index, columns=headers)], axis=1)\n",
    "\n",
    "# Change name of output file per run, so you can save different situations \n",
    "output_file = \"myresults.xlsx\" \n",
    "output_data.to_excel(output_file)"
   ]
  },
  {
   "cell_type": "code",
   "execution_count": null,
   "metadata": {},
   "outputs": [],
   "source": [
    "# Here, a function is made to plot precipitation with the water storage of the WHS. \n",
    "\n",
    "def WHSplot(prec, st1, st2, x):\n",
    "    width = 0.8\n",
    "    fig = plt.figure(figsize=(20, 12))\n",
    "\n",
    "    ax1 = fig.add_subplot(211)\n",
    "    plt.xticks(rotation=45)\n",
    "\n",
    "    ax1.set_title('Cistern storage', fontsize=18)\n",
    "    ax1.bar(x, prec, width, label='Precipitation')\n",
    "    ax1.set_ylabel('Rainfall [$mm$]', fontsize=10)\n",
    "    ax1.set_ylim(0, 100)\n",
    "    ax1.legend(loc='upper left', shadow=True)\n",
    "    handles, labels = ax1.get_legend_handles_labels()\n",
    "    ax1.legend(handles, labels, loc='upper left', fontsize=8)\n",
    "    ax1.tick_params(axis='both', labelsize=10)\n",
    "\n",
    "    ax2 = ax1.twinx()\n",
    "    ax2.plot(x, st1, 'y', label='Water stored')\n",
    "    ax2.set_ylabel('Storage [$m^3$]', fontsize=10)\n",
    "    ax2.set_ylim(0, cap_cis)\n",
    "    ax2.legend(loc='upper left', shadow=True)\n",
    "    handles, labels = ax2.get_legend_handles_labels()\n",
    "    ax2.legend(handles, labels, loc='upper right', fontsize=8)\n",
    "    ax2.tick_params(axis='both', labelsize=10)\n",
    "\n",
    "    ax3 = fig.add_subplot(212)\n",
    "    plt.xticks(rotation=45)\n",
    "    ax3.set_title('Open pond storage', fontsize=18)\n",
    "    ax3.bar(x, prec, width, label='Precipitation')\n",
    "    ax3.set_ylabel('Rainfall [$mm$]', fontsize=10)\n",
    "    ax3.set_ylim(0, 100)\n",
    "    ax3.legend(loc='upper left', shadow=True)\n",
    "    handles, labels = ax3.get_legend_handles_labels()\n",
    "    ax3.legend(handles, labels, loc='upper left', fontsize=8)\n",
    "    ax3.tick_params(axis='both', labelsize=10)\n",
    "\n",
    "    ax4 = ax3.twinx()\n",
    "    ax4.plot(x, st2, 'y-', label='Water stored')\n",
    "    ax4.set_ylabel('Storage [$m^3$]', fontsize=10)\n",
    "    ax4.set_ylim(0, cap_op)\n",
    "    ax4.legend(loc='upper left', shadow=True)\n",
    "    handles, labels = ax4.get_legend_handles_labels()\n",
    "    ax4.legend(handles, labels, loc='upper right', fontsize=8)\n",
    "    ax4.tick_params(axis='both', labelsize=10)\n",
    "\n",
    "    fig.savefig(\"WHS.png\", bbox_inches='tight', dpi=300)\n",
    "    plt.tight_layout()\n",
    "    plt.show()"
   ]
  },
  {
   "cell_type": "code",
   "execution_count": null,
   "metadata": {},
   "outputs": [],
   "source": [
    "# Code to create the plot\n",
    "# Loading might take a while as there are more than 10.000 data points.\n",
    "WHSplot(prec_data, output_cis.storage, output_op.storage, Time)"
   ]
  },
  {
   "cell_type": "markdown",
   "metadata": {},
   "source": [
    "# Automating the script # THIS IS NOT UPDATED YET"
   ]
  },
  {
   "cell_type": "markdown",
   "metadata": {},
   "source": [
    "Generate the following information for at least 5 model runs with different values for the capacity of the reservoir (both pond and cistern): The total costs of investment and maintenance per m3​ of extracted water and the percentage of the days of the period the system contains water. Plot these results in a graph for each WHS on the y- and x-axis respectively. If you want to do this in Python you can use, duplicate and fill in lines after assignment 6 in the script."
   ]
  },
  {
   "cell_type": "code",
   "execution_count": null,
   "metadata": {},
   "outputs": [],
   "source": [
    "# Make for the climate scenario the script available with completed run calculations and plots\n",
    "\n",
    "run1_cis = storage_calc(prec_data, evap_data, potential_usage, \"cistern\", 25, 300, 2, 150)\n",
    "run2_cis = storage_calc(prec_data, evap_data, potential_usage, \"cistern\", 50, 300, 2, 150)\n",
    "run3_cis = storage_calc(prec_data, evap_data, potential_usage, \"cistern\", 75, 300, 2, 150)\n",
    "run4_cis = storage_calc(prec_data, evap_data, potential_usage, \"cistern\", 100, 300, 2, 150)\n",
    "run5_cis = storage_calc(prec_data, evap_data, potential_usage, \"cistern\", 150, 300, 2, 150)\n",
    "\n",
    "effect1_cis = np.sum(run1_cis.usage) / (len(run1_cis.usage) * potential_usage)\n",
    "effect2_cis = np.sum(run2_cis.usage) / (len(run2_cis.usage) * potential_usage)\n",
    "effect3_cis = np.sum(run3_cis.usage) / (len(run3_cis.usage) * potential_usage)\n",
    "effect4_cis = np.sum(run4_cis.usage) / (len(run4_cis.usage) * potential_usage)\n",
    "effect5_cis = np.sum(run5_cis.usage) / (len(run5_cis.usage) * potential_usage)\n",
    "\n",
    "costs1_cis = 32.28 * 25 / np.sum(run1_cis.usage)\n",
    "costs2_cis = 32.28 * 50 / np.sum(run2_cis.usage)\n",
    "costs3_cis = 32.28 * 75 / np.sum(run3_cis.usage)\n",
    "costs4_cis = 32.28 * 100 / np.sum(run4_cis.usage)\n",
    "costs5_cis = 32.28 * 150 / np.sum(run5_cis.usage)\n",
    "\n",
    "effectiveness_cis_list = [effect1_cis, effect2_cis, effect3_cis, effect4_cis,\n",
    "                          effect5_cis]\n",
    "costs_cis_list = [costs1_cis, costs2_cis, costs3_cis, costs4_cis, costs5_cis]\n",
    "\n",
    "run1_op = storage_calc(prec_data, evap_data, potential_usage, \"open pond\", 25, 300, 2, 150)\n",
    "run2_op = storage_calc(prec_data, evap_data, potential_usage, \"open pond\", 50, 300, 2, 150)\n",
    "run3_op = storage_calc(prec_data, evap_data, potential_usage,  \"open pond\", 75, 300, 2, 150)\n",
    "run4_op = storage_calc(prec_data, evap_data, potential_usage, \"open pond\", 100, 300, 2, 150)\n",
    "run5_op = storage_calc(prec_data, evap_data, potential_usage, \"open pond\", 150, 300, 2, 150)\n",
    "\n",
    "effect1_op = np.sum(run1_op.usage) / (len(run1_op.usage) * potential_usage)\n",
    "effect2_op = np.sum(run2_op.usage) / (len(run2_op.usage) * potential_usage)\n",
    "effect3_op = np.sum(run3_op.usage) / (len(run3_op.usage) * potential_usage)\n",
    "effect4_op = np.sum(run4_op.usage) / (len(run4_op.usage) * potential_usage)\n",
    "effect5_op = np.sum(run5_op.usage) / (len(run5_op.usage) * potential_usage)\n",
    "\n",
    "costs1_op = 32.28 * 25 / np.sum(run1_op.usage)\n",
    "costs2_op = 32.28 * 50 / np.sum(run2_op.usage)\n",
    "costs3_op = 32.28 * 75 / np.sum(run3_op.usage)\n",
    "costs4_op = 32.28 * 100 / np.sum(run4_op.usage)\n",
    "costs5_op = 32.28 * 150 / np.sum(run5_op.usage)\n",
    "\n",
    "effectiveness_op_list = [effect1_op, effect2_op, effect3_op, effect4_op,\n",
    "                          effect5_op]\n",
    "costs_op_list = [costs1_op, costs2_op, costs3_op, costs4_op, costs5_op]"
   ]
  },
  {
   "cell_type": "code",
   "execution_count": null,
   "metadata": {},
   "outputs": [],
   "source": [
    "print('\\nEffectivness cistern run 1: %s' % effect1_cis)\n",
    "print('Effectivness cistern run 2: %s' % effect2_cis)\n",
    "print('Effectivness cistern run 3: %s' % effect3_cis)\n",
    "print('Effectivness cistern run 4: %s' % effect4_cis)\n",
    "print('Effectivness cistern run 5: %s\\n' % effect5_cis)\n",
    "\n",
    "print('Costs/$m^3$ cistern run 1: %s' % costs1_cis)\n",
    "print('Costs/$m^3$ cistern run 2: %s' % costs2_cis)\n",
    "print('Costs/$m^3$ cistern run 3: %s' % costs3_cis)\n",
    "print('Costs/$m^3$ cistern run 4: %s' % costs4_cis)\n",
    "print('Costs/$m^3$ cistern run 5: %s\\n' % costs5_cis)\n",
    "\n",
    "print('Effectivness open pond run 1: %s' % effect1_op)\n",
    "print('Effectivness open pond run 2: %s' % effect2_op)\n",
    "print('Effectivness open pond run 3: %s' % effect3_op)\n",
    "print('Effectivness open pond run 4: %s' % effect4_op)\n",
    "print('Effectivness open pond run 5: %s\\n' % effect5_op)\n",
    "\n",
    "print('Costs/$m^3$ open pond run 1: %s' % costs1_op)\n",
    "print('Costs/$m^3$ open pond run 2: %s' % costs2_op)\n",
    "print('Costs/$m^3$ open pond run 3: %s' % costs3_op)\n",
    "print('Costs/$m^3$ open pond run 4: %s' % costs4_op)\n",
    "print('Costs/$m^3$ open pond run 5: %s' % costs5_op)"
   ]
  },
  {
   "cell_type": "code",
   "execution_count": null,
   "metadata": {},
   "outputs": [],
   "source": [
    "def assignment6plot(x, y, WHS):\n",
    "    plt.scatter(x, y)\n",
    "    plt.xlabel('Effectiveness')\n",
    "    plt.ylabel('Costs [$m^3$]')\n",
    "    plt.title(WHS)\n",
    "    plt.show()"
   ]
  },
  {
   "cell_type": "code",
   "execution_count": null,
   "metadata": {},
   "outputs": [],
   "source": [
    "assignment6plot(effectiveness_cis_list, costs_cis_list, \"Cistern\")"
   ]
  },
  {
   "cell_type": "code",
   "execution_count": null,
   "metadata": {},
   "outputs": [],
   "source": [
    "assignment6plot(effectiveness_op_list, costs_op_list, \"open pond\")"
   ]
  }
 ],
 "metadata": {
  "kernelspec": {
   "display_name": "Python 3",
   "language": "python",
   "name": "python3"
  },
  "language_info": {
   "codemirror_mode": {
    "name": "ipython",
    "version": 3
   },
   "file_extension": ".py",
   "mimetype": "text/x-python",
   "name": "python",
   "nbconvert_exporter": "python",
   "pygments_lexer": "ipython3",
   "version": "3.6.5"
  }
 },
 "nbformat": 4,
 "nbformat_minor": 2
}
